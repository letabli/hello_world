{
  "nbformat": 4,
  "nbformat_minor": 0,
  "metadata": {
    "colab": {
      "name": "linear (1).ipynb",
      "version": "0.3.2",
      "provenance": []
    },
    "kernelspec": {
      "display_name": "Python 3",
      "language": "python",
      "name": "python3"
    }
  },
  "cells": [
    {
      "metadata": {
        "id": "0UfW-Zw-adFD",
        "colab_type": "code",
        "colab": {
          "base_uri": "https://localhost:8080/",
          "height": 347
        },
        "outputId": "0805e509-a7eb-4bf5-a418-7b1da6659622"
      },
      "cell_type": "code",
      "source": [
        "import matplotlib.pyplot as plt\n",
        "\n",
        "def get_gradient_at_b(x, y, b, m):\n",
        "  N = len(x)\n",
        "  diff = 0\n",
        "  for i in range(N):\n",
        "    x_val = x[i]\n",
        "    y_val = y[i]\n",
        "    diff += (y_val - ((m * x_val) + b))\n",
        "  b_gradient = -(2/N) * diff  \n",
        "  return b_gradient\n",
        "\n",
        "def get_gradient_at_m(x, y, b, m):\n",
        "  N = len(x)\n",
        "  diff = 0\n",
        "  for i in range(N):\n",
        "      x_val = x[i]\n",
        "      y_val = y[i]\n",
        "      diff += x_val * (y_val - ((m * x_val) + b))\n",
        "  m_gradient = -(2/N) * diff  \n",
        "  return m_gradient\n",
        "\n",
        "#Your step_gradient function here\n",
        "def step_gradient(b_current, m_current, x, y, learning_rate):\n",
        "    b_gradient = get_gradient_at_b(x, y, b_current, m_current)\n",
        "    m_gradient = get_gradient_at_m(x, y, b_current, m_current)\n",
        "    b = b_current - (learning_rate * b_gradient)\n",
        "    m = m_current - (learning_rate * m_gradient)\n",
        "    return [b, m]\n",
        "  \n",
        "#Your gradient_descent function here:  \n",
        "def gradient_descent(x, y, learning_rate, num_iterations):\n",
        "  b=0\n",
        "  m=0\n",
        "  for i in range(num_iterations):\n",
        "    b, m = step_gradient(b, m, x, y, learning_rate)\n",
        "  return [b, m]\n",
        "\n",
        "months = [1, 2, 3, 4, 5, 6, 7, 8, 9, 10, 11, 12]\n",
        "revenue = [52, 74, 79, 95, 115, 110, 129, 126, 147, 146, 156, 184]\n",
        "\n",
        "#Uncomment the line below to run your gradient_descent function\n",
        "b, m = gradient_descent(months, revenue, 0.01, 1000)\n",
        "\n",
        "#Uncomment the lines below to see the line you've settled upon!\n",
        "y = [m*x + b for x in months]\n",
        "\n",
        "plt.plot(months, revenue, \"o\")\n",
        "plt.plot(months, y)\n",
        "\n",
        "plt.show()\n",
        "\n",
        "\n"
      ],
      "execution_count": 2,
      "outputs": [
        {
          "output_type": "display_data",
          "data": {
            "image/png": "[encoded data removed]",
            "text/plain": [
              "<matplotlib.figure.Figure at 0x7fe091682f98>"
            ]
          },
          "metadata": {
            "tags": []
          }
        }
      ]
    },
    {
      "metadata": {
        "id": "HTy1nXBWaioV",
        "colab_type": "code",
        "colab": {}
      },
      "cell_type": "code",
      "source": [
        ""
      ],
      "execution_count": 0,
      "outputs": []
    }
  ]
}