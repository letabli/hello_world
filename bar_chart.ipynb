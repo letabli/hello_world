{
 "cells": [
  {
   "cell_type": "markdown",
   "metadata": {},
   "source": [
    "## 1.1 막대 그래프"
   ]
  },
  {
   "cell_type": "markdown",
   "metadata": {},
   "source": [
    "1.1.1. 간단한 막대 그래프"
   ]
  },
  {
   "cell_type": "code",
   "execution_count": 11,
   "metadata": {},
   "outputs": [
    {
     "data": {
      "image/png": "[encoded data removed]",
      "text/plain": [
       "<Figure size 432x288 with 1 Axes>"
      ]
     },
     "metadata": {
      "needs_background": "light"
     },
     "output_type": "display_data"
    }
   ],
   "source": [
    "from matplotlib import pyplot as plt\n",
    "\n",
    "drinks = [\"cappuccino\", \"latte\", \"chai\", \"americano\", \"mocha\", \"espresso\"]\n",
    "sales =  [91, 76, 56, 66, 52, 27]\n",
    "\n",
    "plt.bar(range(len(drinks)),sales)\n",
    "plt.show()"
   ]
  },
  {
   "cell_type": "markdown",
   "metadata": {},
   "source": [
    "1.1.2. 축 수정"
   ]
  },
  {
   "cell_type": "code",
   "execution_count": 10,
   "metadata": {},
   "outputs": [
    {
     "data": {
      "image/png": "[encoded data removed]",
      "text/plain": [
       "<Figure size 432x288 with 1 Axes>"
      ]
     },
     "metadata": {
      "needs_background": "light"
     },
     "output_type": "display_data"
    }
   ],
   "source": [
    "ax = plt.subplot()\n",
    "ax.bar(range(len(drinks)),sales)\n",
    "ax.set_xticks(range(len(drinks)))\n",
    "ax.set_xticklabels(drinks)\n",
    "plt.show()"
   ]
  },
  {
   "cell_type": "markdown",
   "metadata": {},
   "source": [
    "1.1.3. 2개 이상 막대그래프"
   ]
  },
  {
   "cell_type": "markdown",
   "metadata": {},
   "source": [
    "예시 데이터"
   ]
  },
  {
   "cell_type": "code",
   "execution_count": 12,
   "metadata": {},
   "outputs": [],
   "source": [
    "drinks = [\"coke\", \"americano\", \"mix\", \"tea\", \"water\", \"soda\"]\n",
    "sales1 =  [91, 76, 56, 66, 52, 27]\n",
    "sales2 = [65, 82, 36, 68, 38, 40]"
   ]
  },
  {
   "cell_type": "markdown",
   "metadata": {},
   "source": [
    "2개 이상 막대 그래프 X축 설정 기본식"
   ]
  },
  {
   "cell_type": "markdown",
   "metadata": {},
   "source": [
    "> ### 첫번째 데이터셋\n",
    "```python\n",
    "n = 1  # This is our first dataset (out of 2)  \n",
    "t = 2 # Number of datasets  \n",
    "d = 7 # Number of sets of bars  \n",
    "w = 0.8 # Width of each bar  \n",
    "x_values1 = [t*element + w*n for element\n",
    "             in range(d)]\n",
    "```\n",
    "\n",
    "\n",
    "> ### 두번째 데이터셋\n",
    "```python\n",
    "n = 2  # This is our second dataset (out of 2)  \n",
    "t = 2 # Number of datasets  \n",
    "d = 7 # Number of sets of bars  \n",
    "w = 0.8 # Width of each bar  \n",
    "x_values2 = [t*element + w*n for element\n",
    "             in range(d)]\n",
    "```\n",
    "            "
   ]
  },
  {
   "cell_type": "code",
   "execution_count": 27,
   "metadata": {
    "scrolled": true
   },
   "outputs": [
    {
     "data": {
      "image/png": "[encoded data removed]",
      "text/plain": [
       "<Figure size 432x288 with 1 Axes>"
      ]
     },
     "metadata": {
      "needs_background": "light"
     },
     "output_type": "display_data"
    }
   ],
   "source": [
    "# 첫번째 데이터셋\n",
    "n = 1 # This is our first dataset (out of 2)\n",
    "t = 2 # Number of datasets \n",
    "d = 6 # Number of sets of bars \n",
    "w = 0.8 # Width of each bar \n",
    "x_values = [t*element + w*n for element in range(d)]\n",
    "store1_x = x_values\n",
    "plt.bar(store1_x, sales1)\n",
    "\n",
    "# 첫번째 데이터셋\n",
    "n = 2 # This is our first dataset (out of 2)\n",
    "t = 2 # Number of datasets \n",
    "d = 6 # Number of sets of bars \n",
    "w = 0.8 # Width of each bar \n",
    "x_values = [t*element + w*n for element in range(d)]\n",
    "store2_x = x_values\n",
    "plt.bar(store2_x, sales2)\n",
    "plt.show()"
   ]
  },
  {
   "cell_type": "code",
   "execution_count": null,
   "metadata": {},
   "outputs": [],
   "source": []
  }
 ],
 "metadata": {
  "kernelspec": {
   "display_name": "Python 3",
   "language": "python",
   "name": "python3"
  },
  "language_info": {
   "codemirror_mode": {
    "name": "ipython",
    "version": 3
   },
   "file_extension": ".py",
   "mimetype": "text/x-python",
   "name": "python",
   "nbconvert_exporter": "python",
   "pygments_lexer": "ipython3",
   "version": "3.7.0"
  }
 },
 "nbformat": 4,
 "nbformat_minor": 2
}
